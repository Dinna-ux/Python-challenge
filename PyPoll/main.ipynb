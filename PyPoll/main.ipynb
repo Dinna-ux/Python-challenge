{
 "cells": [
  {
   "cell_type": "code",
   "execution_count": 12,
   "id": "d637fad5-2098-4cbb-8923-a427466af949",
   "metadata": {},
   "outputs": [],
   "source": [
    "#Interacting with the operating system\n",
    "import os"
   ]
  },
  {
   "cell_type": "code",
   "execution_count": 2,
   "id": "de1c6d0c-9710-4124-9c26-3e8d045c7baa",
   "metadata": {},
   "outputs": [],
   "source": [
    "#connecting to the csv data\n",
    "csvpath = os.path.join(\".\",\"Resources\",\"election_data.csv\")"
   ]
  },
  {
   "cell_type": "code",
   "execution_count": 3,
   "id": "05b3b208-7947-4a2c-8171-0989a3ea822e",
   "metadata": {},
   "outputs": [
    {
     "data": {
      "text/plain": [
       "'.\\\\Resources\\\\election_data.csv'"
      ]
     },
     "execution_count": 3,
     "metadata": {},
     "output_type": "execute_result"
    }
   ],
   "source": [
    "csvpath"
   ]
  },
  {
   "cell_type": "code",
   "execution_count": 18,
   "id": "f4b1428c-09ca-4d98-9d7f-ff673d3c0536",
   "metadata": {},
   "outputs": [],
   "source": [
    "# provide various classes for reading and writing data to CSV files\n",
    "import csv"
   ]
  },
  {
   "cell_type": "code",
   "execution_count": 19,
   "id": "fe2f7116-cb77-439f-8666-9d66ac2fc36c",
   "metadata": {},
   "outputs": [],
   "source": [
    "#Opening the CSV file, and declaring variables \n",
    "with open(csvpath, newline=\"\", encoding=\"utf-8\") as csvfile:\n",
    "    csvreader = csv.reader(csvfile, delimiter= ',')\n",
    "    next(csvreader)\n",
    "    election_data = list(csvreader)\n",
    "    count_row = len(election_data)\n",
    "    candidates = list()\n",
    "    results = list()\n",
    "    for i in range (0,count_row):\n",
    "        candidate = election_data[i][2]\n",
    "        results.append(candidate)\n",
    "        if candidate not in candidates: \n",
    "            candidates.append(candidate)\n",
    "    candidate_count = len(candidates)"
   ]
  },
  {
   "cell_type": "code",
   "execution_count": 20,
   "id": "9278f1c6-6d5d-4583-8389-e3aacc7b1528",
   "metadata": {},
   "outputs": [],
   "source": [
    "#Creating a complete list of candidates who received votes, adding candidate votes and  percentage of votes each candidate won\n",
    "candidate_vote = list()\n",
    "percentage_votes = list()\n",
    "for j in range (0,candidate_count):\n",
    "        candidate_name = candidates[j]\n",
    "        candidate_vote.append(results.count(candidate_name))\n",
    "        percentage_count = candidate_vote[j]/count_row\n",
    "        percentage_votes.append(percentage_count)"
   ]
  },
  {
   "cell_type": "code",
   "execution_count": 21,
   "id": "e8dfa593-1f0e-4248-949a-f12edda449ce",
   "metadata": {},
   "outputs": [],
   "source": [
    "#Winner based on popular votes\n",
    "winner = candidate_vote.index(max(candidate_vote))    "
   ]
  },
  {
   "cell_type": "code",
   "execution_count": 22,
   "id": "d2cd4da4-3316-4239-acb4-d4ff08b67d5e",
   "metadata": {},
   "outputs": [
    {
     "name": "stdout",
     "output_type": "stream",
     "text": [
      "Election Results\n",
      "\n",
      "-------------------------\n",
      "\n",
      "Total Votes: 369711\n",
      "\n",
      "-------------------------\n",
      "Charles Casper Stockham: 23.049% (85213)\n",
      "\n",
      "Diana DeGette: 73.812% (272892)\n",
      "\n",
      "Raymon Anthony Doane: 3.139% (11606)\n",
      "\n",
      "-------------------------\n",
      "\n",
      "Winner: Diana DeGette\n",
      "\n",
      "--------------------------\n"
     ]
    }
   ],
   "source": [
    "#printing the total number of votes each candidate won including the winner of the election based on the popular vote and formating the analysis.\n",
    "print(\"Election Results\")\n",
    "print()\n",
    "print(\"-------------------------\")\n",
    "print()\n",
    "print(f\"Total Votes: {count_row:}\" )\n",
    "print()\n",
    "print(\"-------------------------\" )\n",
    "for k in range (0,candidate_count):\n",
    "    print(f\"{candidates[k]}: {percentage_votes[k]:.3%} ({candidate_vote[k]:})\\n\")\n",
    "print(\"-------------------------\")\n",
    "print()\n",
    "print(f\"Winner: {candidates[winner]}\")\n",
    "print()\n",
    "print(\"--------------------------\")"
   ]
  },
  {
   "cell_type": "code",
   "execution_count": 11,
   "id": "b499f98f-fe49-4ede-904d-145c84ae4677",
   "metadata": {},
   "outputs": [],
   "source": [
    "#The text file contains for Pypoll:Total Votes, each candidate’s total votes and percent of votes, and the winner \n",
    "print(\"Election Results\", file=open(\"PyPoll.txt\",\"a\"))\n",
    "\n",
    "print(\"----------------------------\", file=open(\"PyPoll.txt\",\"a\"))\n",
    "\n",
    "print(f\"Total Votes: {count_row:}\", file=open(\"PyPoll.txt\",\"a\"))\n",
    "\n",
    "print(\"----------------------------\", file=open(\"PyPoll.txt\",\"a\"))\n",
    "for k in range (0,candidate_count): \n",
    "        print(f\"{candidates[k]}: {percentage_votes[k]:.3%} ({candidate_vote[k]:})\", file=open(\"PyPoll.txt\",\"a\"))\n",
    "    \n",
    "print(\"----------------------------\", file=open(\"PyPoll.txt\",\"a\"))\n",
    "\n",
    "print(f\"Winner: {candidates[winner]}\", file=open(\"PyPoll.txt\",\"a\"))\n",
    "\n",
    "print(\"----------------------------\", file=open(\"PyPoll.txt\",\"a\"))\n",
    "\n"
   ]
  },
  {
   "cell_type": "code",
   "execution_count": null,
   "id": "74ee67f5-913e-4e00-8c46-0bb9ec50337f",
   "metadata": {},
   "outputs": [],
   "source": []
  }
 ],
 "metadata": {
  "kernelspec": {
   "display_name": "Python 3 (ipykernel)",
   "language": "python",
   "name": "python3"
  },
  "language_info": {
   "codemirror_mode": {
    "name": "ipython",
    "version": 3
   },
   "file_extension": ".py",
   "mimetype": "text/x-python",
   "name": "python",
   "nbconvert_exporter": "python",
   "pygments_lexer": "ipython3",
   "version": "3.10.13"
  }
 },
 "nbformat": 4,
 "nbformat_minor": 5
}
