{
 "cells": [
  {
   "cell_type": "code",
   "execution_count": null,
   "id": "aa33b8db-1311-4f58-a1f4-213cd1a501ca",
   "metadata": {},
   "outputs": [],
   "source": [
    "#provides a function to interact with the operating system"
   ]
  },
  {
   "cell_type": "code",
   "execution_count": 2,
   "id": "83e1e971-7e32-4d88-bca0-fd3d074bb50a",
   "metadata": {},
   "outputs": [],
   "source": [
    "import os"
   ]
  },
  {
   "cell_type": "code",
   "execution_count": null,
   "id": "4aef8454-c9df-47db-9f3c-9bf2a184ca34",
   "metadata": {},
   "outputs": [],
   "source": [
    "#location of the file"
   ]
  },
  {
   "cell_type": "code",
   "execution_count": 3,
   "id": "ba35c9ae-4a86-4fb7-a28d-ebad6a61862b",
   "metadata": {},
   "outputs": [],
   "source": [
    "csvpath = os.path.join(\"Resources\",\"budget_data.csv\")"
   ]
  },
  {
   "cell_type": "code",
   "execution_count": 4,
   "id": "e451da6a-c77c-4be1-bd4a-825b9e50cb81",
   "metadata": {},
   "outputs": [
    {
     "data": {
      "text/plain": [
       "'Resources\\\\budget_data.csv'"
      ]
     },
     "execution_count": 4,
     "metadata": {},
     "output_type": "execute_result"
    }
   ],
   "source": [
    "csvpath"
   ]
  },
  {
   "cell_type": "code",
   "execution_count": null,
   "id": "ce82737e-20c6-414d-9aac-d31a175c7309",
   "metadata": {},
   "outputs": [],
   "source": [
    "#Open a file path"
   ]
  },
  {
   "cell_type": "code",
   "execution_count": 5,
   "id": "ca59fc16-81b5-4e1d-b332-61b8947bf52e",
   "metadata": {},
   "outputs": [],
   "source": [
    "import csv"
   ]
  },
  {
   "cell_type": "code",
   "execution_count": 6,
   "id": "1a1e6031-3ec4-4cf8-9652-638e2087eebe",
   "metadata": {},
   "outputs": [],
   "source": [
    "with open(csvpath) as csvfile:\n",
    "    csvreader = csv.reader(csvfile)\n",
    "    next(csvreader)\n",
    "\n",
    "    months = []\n",
    "    total_profit_losses = []\n",
    "    changes = []\n",
    "\n",
    "    for row in csvreader:\n",
    "        months.append(row[0])\n",
    "        total_profit_losses.append(int(row[1]))"
   ]
  },
  {
   "cell_type": "code",
   "execution_count": null,
   "id": "24308b39-3247-4ed6-ad22-9def15bdc55b",
   "metadata": {},
   "outputs": [],
   "source": [
    "#Calculating the total number of months included in the dataset"
   ]
  },
  {
   "cell_type": "code",
   "execution_count": 10,
   "id": "7d09dbdc-0eec-4c74-97b1-5f82259f70e1",
   "metadata": {},
   "outputs": [],
   "source": [
    "months_included = len(months)"
   ]
  },
  {
   "cell_type": "code",
   "execution_count": null,
   "id": "9e9e78a0-56ac-4656-b0c5-5f456aee8460",
   "metadata": {},
   "outputs": [],
   "source": [
    "#Calculating net total amount of \"Profit/Losses\" over the entire period"
   ]
  },
  {
   "cell_type": "code",
   "execution_count": 11,
   "id": "b7e7df11-aae8-4504-8778-605407f0d60f",
   "metadata": {},
   "outputs": [],
   "source": [
    "net_total_amount = sum(total_profit_losses)"
   ]
  },
  {
   "cell_type": "code",
   "execution_count": null,
   "id": "d50d3314-71d7-4198-bfb5-ff4eb0989646",
   "metadata": {},
   "outputs": [],
   "source": [
    "#Calculating changes in \"Profit/Losses\" over the entire period"
   ]
  },
  {
   "cell_type": "code",
   "execution_count": 12,
   "id": "f28301b2-6912-4333-9486-dda393d1e60c",
   "metadata": {},
   "outputs": [],
   "source": [
    "for i in range(1, months_included):\n",
    "    change_profit_losses = total_profit_losses[i]-total_profit_losses[i-1]\n",
    "    changes.append(change_profit_losses)"
   ]
  },
  {
   "cell_type": "code",
   "execution_count": null,
   "id": "21b9677b-e13f-41a1-92a0-23a2f37f09fa",
   "metadata": {},
   "outputs": [],
   "source": [
    "#Calculating the average of the changes above"
   ]
  },
  {
   "cell_type": "code",
   "execution_count": 13,
   "id": "1c5a2339-27ba-4625-8af7-3ae4ab4cd0be",
   "metadata": {},
   "outputs": [],
   "source": [
    "average_change = sum(changes) / len(changes)"
   ]
  },
  {
   "cell_type": "code",
   "execution_count": null,
   "id": "c6b7cea8-2eff-4f21-9ce0-efdd5ff91202",
   "metadata": {},
   "outputs": [],
   "source": [
    "#greatest increase and deacrease in profits (date and amount) over the entire period"
   ]
  },
  {
   "cell_type": "code",
   "execution_count": 14,
   "id": "10981715-9080-4be4-a157-2b1f59b7c95c",
   "metadata": {},
   "outputs": [],
   "source": [
    "greatest_increase = max(changes)\n",
    "greatest_increase_profit = months[changes.index(greatest_increase) + 1]\n",
    "greatest_decrease = min(changes)\n",
    "greatest_decrease_profit = months[changes.index(greatest_decrease) +1]"
   ]
  },
  {
   "cell_type": "code",
   "execution_count": null,
   "id": "46f67412-aec2-4b6e-8422-ace6664c32fc",
   "metadata": {},
   "outputs": [],
   "source": [
    "#Analysing and printing the results"
   ]
  },
  {
   "cell_type": "code",
   "execution_count": 16,
   "id": "992cfe53-1bf7-4b31-8747-b6b365ce4f46",
   "metadata": {},
   "outputs": [
    {
     "name": "stdout",
     "output_type": "stream",
     "text": [
      "Financial Analysis\n",
      "-------------------------\n",
      "Total Months: 86\n",
      "Total: $22564198\n",
      "Average Change: $-8311.11\n",
      "Greatest Increase in Profits: Aug-16 ($1862002)\n",
      "Greatest Decrease in Profits: Feb-14 ($-1825558)\n"
     ]
    }
   ],
   "source": [
    "print(\"Financial Analysis\")\n",
    "print(\"-------------------------\")\n",
    "print(f\"Total Months: {months_included}\")\n",
    "print(f\"Total: ${net_total_amount}\")\n",
    "print(f\"Average Change: ${average_change:.2f}\")\n",
    "print(f\"Greatest Increase in Profits: {greatest_increase_profit} (${greatest_increase})\")\n",
    "print(f\"Greatest Decrease in Profits: {greatest_decrease_profit} (${greatest_decrease})\")\n"
   ]
  },
  {
   "cell_type": "code",
   "execution_count": null,
   "id": "c3cb0f77-d62a-4d09-acd3-cf9fa317142f",
   "metadata": {},
   "outputs": [],
   "source": []
  }
 ],
 "metadata": {
  "kernelspec": {
   "display_name": "Python 3 (ipykernel)",
   "language": "python",
   "name": "python3"
  },
  "language_info": {
   "codemirror_mode": {
    "name": "ipython",
    "version": 3
   },
   "file_extension": ".py",
   "mimetype": "text/x-python",
   "name": "python",
   "nbconvert_exporter": "python",
   "pygments_lexer": "ipython3",
   "version": "3.11.7"
  }
 },
 "nbformat": 4,
 "nbformat_minor": 5
}
