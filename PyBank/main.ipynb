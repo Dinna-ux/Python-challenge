{
 "cells": [
  {
   "cell_type": "code",
   "execution_count": null,
   "id": "aa33b8db-1311-4f58-a1f4-213cd1a501ca",
   "metadata": {},
   "outputs": [],
   "source": [
    "#provides a function to interact with the operating system"
   ]
  },
  {
   "cell_type": "code",
   "execution_count": 18,
   "id": "83e1e971-7e32-4d88-bca0-fd3d074bb50a",
   "metadata": {},
   "outputs": [],
   "source": [
    "import os"
   ]
  },
  {
   "cell_type": "code",
   "execution_count": 19,
   "id": "08806fb5-d8ab-4846-a40c-07a74f185fbe",
   "metadata": {},
   "outputs": [],
   "source": [
    "from pathlib import Path"
   ]
  },
  {
   "cell_type": "code",
   "execution_count": null,
   "id": "4aef8454-c9df-47db-9f3c-9bf2a184ca34",
   "metadata": {},
   "outputs": [],
   "source": [
    "#location of the file"
   ]
  },
  {
   "cell_type": "code",
   "execution_count": 20,
   "id": "e451da6a-c77c-4be1-bd4a-825b9e50cb81",
   "metadata": {},
   "outputs": [],
   "source": [
    "csvpath = os.path.join(\".\",\"Resources\",\"budget_data.csv\")"
   ]
  },
  {
   "cell_type": "code",
   "execution_count": 21,
   "id": "ce82737e-20c6-414d-9aac-d31a175c7309",
   "metadata": {},
   "outputs": [
    {
     "data": {
      "text/plain": [
       "'.\\\\Resources\\\\budget_data.csv'"
      ]
     },
     "execution_count": 21,
     "metadata": {},
     "output_type": "execute_result"
    }
   ],
   "source": [
    "#Open a file path\n",
    "csvpath"
   ]
  },
  {
   "cell_type": "code",
   "execution_count": 22,
   "id": "ca59fc16-81b5-4e1d-b332-61b8947bf52e",
   "metadata": {},
   "outputs": [],
   "source": [
    "import csv"
   ]
  },
  {
   "cell_type": "code",
   "execution_count": 23,
   "id": "1a1e6031-3ec4-4cf8-9652-638e2087eebe",
   "metadata": {},
   "outputs": [],
   "source": [
    "with open(csvpath) as csvfile:\n",
    "    csvreader = csv.reader(csvfile)\n",
    "    next(csvreader)\n",
    "\n",
    "    months = []\n",
    "    total_profit_losses = []\n",
    "    changes = []\n",
    "\n",
    "    for row in csvreader:\n",
    "        months.append(row[0])\n",
    "        total_profit_losses.append(int(row[1]))"
   ]
  },
  {
   "cell_type": "code",
   "execution_count": null,
   "id": "24308b39-3247-4ed6-ad22-9def15bdc55b",
   "metadata": {},
   "outputs": [],
   "source": [
    "#Calculating the total number of months included in the dataset"
   ]
  },
  {
   "cell_type": "code",
   "execution_count": 24,
   "id": "7d09dbdc-0eec-4c74-97b1-5f82259f70e1",
   "metadata": {},
   "outputs": [],
   "source": [
    "months_included = len(months)"
   ]
  },
  {
   "cell_type": "code",
   "execution_count": null,
   "id": "9e9e78a0-56ac-4656-b0c5-5f456aee8460",
   "metadata": {},
   "outputs": [],
   "source": [
    "#Calculating net total amount of \"Profit/Losses\" over the entire period"
   ]
  },
  {
   "cell_type": "code",
   "execution_count": 25,
   "id": "b7e7df11-aae8-4504-8778-605407f0d60f",
   "metadata": {},
   "outputs": [],
   "source": [
    "net_total_amount = sum(total_profit_losses)"
   ]
  },
  {
   "cell_type": "code",
   "execution_count": null,
   "id": "d50d3314-71d7-4198-bfb5-ff4eb0989646",
   "metadata": {},
   "outputs": [],
   "source": [
    "#Calculating changes in \"Profit/Losses\" over the entire period"
   ]
  },
  {
   "cell_type": "code",
   "execution_count": 26,
   "id": "f28301b2-6912-4333-9486-dda393d1e60c",
   "metadata": {},
   "outputs": [],
   "source": [
    "for i in range(1, months_included):\n",
    "    change_profit_losses = total_profit_losses[i]-total_profit_losses[i-1]\n",
    "    changes.append(change_profit_losses)"
   ]
  },
  {
   "cell_type": "code",
   "execution_count": null,
   "id": "21b9677b-e13f-41a1-92a0-23a2f37f09fa",
   "metadata": {},
   "outputs": [],
   "source": [
    "#Calculating the average of the changes above"
   ]
  },
  {
   "cell_type": "code",
   "execution_count": 27,
   "id": "1c5a2339-27ba-4625-8af7-3ae4ab4cd0be",
   "metadata": {},
   "outputs": [],
   "source": [
    "average_change = sum(changes) / len(changes)"
   ]
  },
  {
   "cell_type": "code",
   "execution_count": null,
   "id": "c6b7cea8-2eff-4f21-9ce0-efdd5ff91202",
   "metadata": {},
   "outputs": [],
   "source": [
    "#greatest increase and deacrease in profits (date and amount) over the entire period"
   ]
  },
  {
   "cell_type": "code",
   "execution_count": 28,
   "id": "10981715-9080-4be4-a157-2b1f59b7c95c",
   "metadata": {},
   "outputs": [],
   "source": [
    "greatest_increase = max(changes)\n",
    "greatest_increase_profit = months[changes.index(greatest_increase) + 1]\n",
    "greatest_decrease = min(changes)\n",
    "greatest_decrease_profit = months[changes.index(greatest_decrease) +1]"
   ]
  },
  {
   "cell_type": "code",
   "execution_count": null,
   "id": "46f67412-aec2-4b6e-8422-ace6664c32fc",
   "metadata": {},
   "outputs": [],
   "source": [
    "#Analysing and printing the results"
   ]
  },
  {
   "cell_type": "code",
   "execution_count": 29,
   "id": "9f5fbdec-ef77-4d89-ac8d-ceba6085bab1",
   "metadata": {},
   "outputs": [
    {
     "name": "stdout",
     "output_type": "stream",
     "text": [
      "Financial Analysis\n",
      "\n",
      "-------------------------\n",
      "\n",
      "Total Months: 86\n",
      "\n",
      "Total: $22564198\n",
      "\n",
      "Average Change: $-8311.11\n",
      "\n",
      "Greatest Increase in Profits: Aug-16 ($1862002)\n",
      "\n",
      "Greatest Decrease in Profits: Feb-14 ($-1825558)\n",
      "\n"
     ]
    }
   ],
   "source": [
    "print(\"Financial Analysis\")\n",
    "print()\n",
    "print(\"-------------------------\")\n",
    "print()\n",
    "print(f\"Total Months: {months_included}\\n\")\n",
    "print(f\"Total: ${net_total_amount}\\n\")\n",
    "print(f\"Average Change: ${average_change:.2f}\\n\")\n",
    "print(f\"Greatest Increase in Profits: {greatest_increase_profit} (${greatest_increase})\\n\")\n",
    "print(f\"Greatest Decrease in Profits: {greatest_decrease_profit} (${greatest_decrease})\\n\")"
   ]
  },
  {
   "cell_type": "code",
   "execution_count": 30,
   "id": "992cfe53-1bf7-4b31-8747-b6b365ce4f46",
   "metadata": {},
   "outputs": [],
   "source": [
    "#The text file contains for PyBank:Total Months, Total, Average change,Greatest Increase, and Greatest Decrease\n",
    "print(\"Financial Analysis\", file=open(\"PyBank.txt\", \"a\"))\n",
    "print(\"-------------------------\", file=open(\"PyBank.txt\", \"a\"))\n",
    "print(f\"Total Months: {months_included}\", file=open(\"PyBank.txt\", \"a\"))\n",
    "print(f\"Total: ${net_total_amount}\", file=open(\"PyBank.txt\", \"a\"))\n",
    "print(f\"Average Change: ${average_change:.2f}\", file=open(\"PyBank.txt\", \"a\"))\n",
    "print(f\"Greatest Increase in Profits: {greatest_increase_profit} (${greatest_increase})\", file=open(\"PyBank.txt\", \"a\"))\n",
    "print(f\"Greatest Decrease in Profits: {greatest_decrease_profit} (${greatest_decrease})\", file=open(\"PyBank.txt\", \"a\"))\n"
   ]
  },
  {
   "cell_type": "code",
   "execution_count": null,
   "id": "ecc47933-a775-42fd-8b39-0574a5a37768",
   "metadata": {},
   "outputs": [],
   "source": []
  }
 ],
 "metadata": {
  "kernelspec": {
   "display_name": "Python 3 (ipykernel)",
   "language": "python",
   "name": "python3"
  },
  "language_info": {
   "codemirror_mode": {
    "name": "ipython",
    "version": 3
   },
   "file_extension": ".py",
   "mimetype": "text/x-python",
   "name": "python",
   "nbconvert_exporter": "python",
   "pygments_lexer": "ipython3",
   "version": "3.10.13"
  }
 },
 "nbformat": 4,
 "nbformat_minor": 5
}
